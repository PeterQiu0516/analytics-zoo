{
 "cells": [
  {
   "cell_type": "markdown",
   "metadata": {},
   "source": [
    "# Stock Price Prediction with Prophet\n",
    "\n",
    "In this notebook, we demonstrate a reference use case where we use historical stock price data to predict the future price using the Prophet model. The dataset we use is the daily stock price of S&P500 stocks during 2013-2018 ([data source](https://www.kaggle.com/camnugent/sandp500/)). \n",
    "\n",
    "Reference: https://facebook.github.io/prophet, https://github.com/jwkanggist/tf-keras-stock-pred"
   ]
  },
  {
   "cell_type": "markdown",
   "metadata": {},
   "source": [
    "## Get Data\n",
    "\n",
    "We will use the close prices of MMM stock for our experiment. We will \n",
    "  1. download raw dataset and load into dataframe. \n",
    "  2. change the column name of the dataframe to fit the input structure of Prophet"
   ]
  },
  {
   "cell_type": "code",
   "execution_count": 1,
   "metadata": {},
   "outputs": [],
   "source": [
    "import numpy as np\n",
    "import pandas as pd\n",
    "import os"
   ]
  },
  {
   "cell_type": "code",
   "execution_count": 2,
   "metadata": {},
   "outputs": [
    {
     "name": "stdout",
     "output_type": "stream",
     "text": [
      "data/all_stocks_5yr.csv\n"
     ]
    }
   ],
   "source": [
    "FILE_NAME    = 'all_stocks_5yr.csv'\n",
    "SOURCE_URL   = 'https://github.com/CNuge/kaggle-code/raw/master/stock_data/' \n",
    "\n",
    "filepath = './data/'+ FILE_NAME\n",
    "filepath = os.path.join('data', FILE_NAME)\n",
    "print(filepath)"
   ]
  },
  {
   "cell_type": "code",
   "execution_count": 3,
   "metadata": {},
   "outputs": [],
   "source": [
    "# download data\n",
    "!if ! [ -d \"data\" ]; then mkdir data; cd data; wget https://github.com/CNuge/kaggle-code/raw/master/stock_data/individual_stocks_5yr.zip; wget https://raw.githubusercontent.com/CNuge/kaggle-code/master/stock_data/merge.sh; chmod +x merge.sh; unzip individual_stocks_5yr.zip; ./merge.sh; fi"
   ]
  },
  {
   "cell_type": "code",
   "execution_count": 4,
   "metadata": {},
   "outputs": [
    {
     "name": "stdout",
     "output_type": "stream",
     "text": [
      "         date   open   high    low  close    volume Name\n",
      "0  2013-02-08  15.07  15.12  14.63  14.75   8407500  AAL\n",
      "1  2013-02-11  14.89  15.01  14.26  14.46   8882000  AAL\n",
      "2  2013-02-12  14.45  14.51  14.10  14.27   8126000  AAL\n",
      "3  2013-02-13  14.30  14.94  14.25  14.66  10259500  AAL\n",
      "4  2013-02-14  14.94  14.96  13.16  13.99  31879900  AAL\n",
      "5  2013-02-15  13.93  14.61  13.93  14.50  15628000  AAL\n",
      "6  2013-02-19  14.33  14.56  14.08  14.26  11354400  AAL\n",
      "7  2013-02-20  14.17  14.26  13.15  13.33  14725200  AAL\n",
      "8  2013-02-21  13.62  13.95  12.90  13.37  11922100  AAL\n",
      "9  2013-02-22  13.57  13.60  13.21  13.57   6071400  AAL\n"
     ]
    }
   ],
   "source": [
    "# read data\n",
    "data = pd.read_csv(filepath)\n",
    "print(data[:10])"
   ]
  },
  {
   "cell_type": "code",
   "execution_count": 5,
   "metadata": {},
   "outputs": [
    {
     "data": {
      "text/html": [
       "<div>\n",
       "<style scoped>\n",
       "    .dataframe tbody tr th:only-of-type {\n",
       "        vertical-align: middle;\n",
       "    }\n",
       "\n",
       "    .dataframe tbody tr th {\n",
       "        vertical-align: top;\n",
       "    }\n",
       "\n",
       "    .dataframe thead th {\n",
       "        text-align: right;\n",
       "    }\n",
       "</style>\n",
       "<table border=\"1\" class=\"dataframe\">\n",
       "  <thead>\n",
       "    <tr style=\"text-align: right;\">\n",
       "      <th></th>\n",
       "      <th>ds</th>\n",
       "      <th>open</th>\n",
       "      <th>high</th>\n",
       "      <th>low</th>\n",
       "      <th>y</th>\n",
       "      <th>volume</th>\n",
       "      <th>Name</th>\n",
       "    </tr>\n",
       "  </thead>\n",
       "  <tbody>\n",
       "    <tr>\n",
       "      <th>381385</th>\n",
       "      <td>2013-02-08</td>\n",
       "      <td>102.34</td>\n",
       "      <td>103.330</td>\n",
       "      <td>102.0400</td>\n",
       "      <td>102.66</td>\n",
       "      <td>1937721</td>\n",
       "      <td>MMM</td>\n",
       "    </tr>\n",
       "    <tr>\n",
       "      <th>381386</th>\n",
       "      <td>2013-02-11</td>\n",
       "      <td>102.39</td>\n",
       "      <td>102.880</td>\n",
       "      <td>102.0401</td>\n",
       "      <td>102.62</td>\n",
       "      <td>1715444</td>\n",
       "      <td>MMM</td>\n",
       "    </tr>\n",
       "    <tr>\n",
       "      <th>381387</th>\n",
       "      <td>2013-02-12</td>\n",
       "      <td>102.66</td>\n",
       "      <td>103.590</td>\n",
       "      <td>102.6300</td>\n",
       "      <td>103.46</td>\n",
       "      <td>1927930</td>\n",
       "      <td>MMM</td>\n",
       "    </tr>\n",
       "    <tr>\n",
       "      <th>381388</th>\n",
       "      <td>2013-02-13</td>\n",
       "      <td>103.03</td>\n",
       "      <td>103.395</td>\n",
       "      <td>102.5800</td>\n",
       "      <td>102.86</td>\n",
       "      <td>1699804</td>\n",
       "      <td>MMM</td>\n",
       "    </tr>\n",
       "    <tr>\n",
       "      <th>381389</th>\n",
       "      <td>2013-02-14</td>\n",
       "      <td>102.43</td>\n",
       "      <td>103.140</td>\n",
       "      <td>102.2200</td>\n",
       "      <td>102.78</td>\n",
       "      <td>2217419</td>\n",
       "      <td>MMM</td>\n",
       "    </tr>\n",
       "  </tbody>\n",
       "</table>\n",
       "</div>"
      ],
      "text/plain": [
       "                ds    open     high       low       y   volume Name\n",
       "381385  2013-02-08  102.34  103.330  102.0400  102.66  1937721  MMM\n",
       "381386  2013-02-11  102.39  102.880  102.0401  102.62  1715444  MMM\n",
       "381387  2013-02-12  102.66  103.590  102.6300  103.46  1927930  MMM\n",
       "381388  2013-02-13  103.03  103.395  102.5800  102.86  1699804  MMM\n",
       "381389  2013-02-14  102.43  103.140  102.2200  102.78  2217419  MMM"
      ]
     },
     "execution_count": 5,
     "metadata": {},
     "output_type": "execute_result"
    }
   ],
   "source": [
    "# change input column name \n",
    "data = data[data['Name']=='MMM'].rename(columns={\"date\":\"ds\", \"close\":\"y\"})\n",
    "data.head()"
   ]
  },
  {
   "cell_type": "markdown",
   "metadata": {},
   "source": [
    "## Data Pre-processing\n",
    "Now we need to do data cleaning and preprocessing on the raw data. Note that this part could vary for different dataset.\n",
    "\n",
    "For the stock price data we're using, we add normlization such that the normalized stock prices fall in the range of 0 to 1. And here we aims at using historical values to predict stock prices of future 24 days."
   ]
  },
  {
   "cell_type": "code",
   "execution_count": 6,
   "metadata": {},
   "outputs": [],
   "source": [
    "from sklearn.preprocessing import MinMaxScaler\n",
    "\n",
    "def normalize_data(data):\n",
    "    \"\"\"\n",
    "    Use sklearn.preprocessing.MinMaxScaler() to normalize data (min = 0, max = 1)\n",
    "        1. X_std = (X - X.min(axis=0)) / (X.max(axis=0) - X.min(axis=0))\n",
    "        2. X_scaled = X_std * (max - min) + min\n",
    "    \"\"\"\n",
    "    data_normalized = MinMaxScaler().fit_transform(data)\n",
    "    return data_normalized\n",
    "\n",
    "data_nor = data.copy()\n",
    "data_nor['y'] = normalize_data(data_nor[['y']].values)"
   ]
  },
  {
   "cell_type": "code",
   "execution_count": 7,
   "metadata": {},
   "outputs": [
    {
     "name": "stdout",
     "output_type": "stream",
     "text": [
      "1235\n",
      "24\n"
     ]
    }
   ],
   "source": [
    "data_train, data_test = data_nor[:-24], data_nor[-24:]\n",
    "print(data_train.shape[0])\n",
    "print(data_test.shape[0])"
   ]
  },
  {
   "cell_type": "code",
   "execution_count": 8,
   "metadata": {},
   "outputs": [],
   "source": [
    "def get_data(data_train, data_test):\n",
    "    data = {'x': data_train, 'y': None, 'val_x': None, 'val_y': data_test}\n",
    "    return data\n",
    "\n",
    "data = get_data(data_train, data_test)"
   ]
  },
  {
   "cell_type": "markdown",
   "metadata": {},
   "source": [
    "## Prophet Model Demonstration\n",
    "Here we provide a simple demonstration of basic operations with the Prophet model."
   ]
  },
  {
   "cell_type": "code",
   "execution_count": 9,
   "metadata": {},
   "outputs": [],
   "source": [
    "from zoo.chronos.model.prophet import ProphetModel"
   ]
  },
  {
   "cell_type": "code",
   "execution_count": 10,
   "metadata": {},
   "outputs": [
    {
     "name": "stderr",
     "output_type": "stream",
     "text": [
      "INFO:prophet:Disabling daily seasonality. Run prophet with daily_seasonality=True to override this.\n"
     ]
    },
    {
     "name": "stdout",
     "output_type": "stream",
     "text": [
      "Validation MSE = 0.003005772477948971\n"
     ]
    }
   ],
   "source": [
    "model = ProphetModel()\n",
    "val_mse = model.fit_eval(data=data)\n",
    "print(f\"Validation MSE = {val_mse}\")"
   ]
  },
  {
   "cell_type": "code",
   "execution_count": 11,
   "metadata": {},
   "outputs": [
    {
     "data": {
      "image/png": "[encoded data removed]",
      "text/plain": [
       "<Figure size 432x288 with 1 Axes>"
      ]
     },
     "metadata": {
      "needs_background": "light"
     },
     "output_type": "display_data"
    }
   ],
   "source": [
    "# Plot predictions\n",
    "pred = model.predict(horizon=data_test.shape[0])\n",
    "\n",
    "import matplotlib.pyplot as plt\n",
    "plt.plot(data_nor[['y']].values[-data_test.shape[0]:], color='blue', label=\"MMM daily price Raw\")\n",
    "plt.plot(pred[['yhat']].values, color='red', label=\"MMM daily price Predicted\")\n",
    "plt.xlabel(\"Time Period\")\n",
    "plt.ylabel(\"Normalized Stock Price\")\n",
    "plt.legend()\n",
    "plt.show()"
   ]
  },
  {
   "cell_type": "markdown",
   "metadata": {},
   "source": [
    "## AutoProphet Demonstration\n",
    "Here we provide a demonstration of our AutoProphet AutoEstimator that could search for best hyperparameters for the model automatically."
   ]
  },
  {
   "cell_type": "code",
   "execution_count": 12,
   "metadata": {},
   "outputs": [],
   "source": [
    "from zoo.chronos.autots.model.AutoProphet import AutoProphet\n",
    "from zoo.automl.recipe.base import Recipe\n",
    "from zoo.orca.automl import hp\n",
    "from zoo.orca import init_orca_context"
   ]
  },
  {
   "cell_type": "code",
   "execution_count": 13,
   "metadata": {},
   "outputs": [
    {
     "name": "stdout",
     "output_type": "stream",
     "text": [
      "Initializing orca context\n",
      "Current pyspark location is : /home/changyuan/spark-2.4.3-bin-hadoop2.7/python/lib/pyspark.zip/pyspark/__init__.py\n",
      "Start to getOrCreate SparkContext\n",
      "pyspark_submit_args is:  --driver-class-path /home/changyuan/Projects/analytics-zoo/zoo/target/analytics-zoo-bigdl_0.12.1-spark_2.4.3-0.10.0-SNAPSHOT-dist-all/lib/analytics-zoo-bigdl_0.12.1-spark_2.4.3-0.10.0-SNAPSHOT-jar-with-dependencies.jar pyspark-shell \n",
      "Successfully got a SparkContext\n"
     ]
    },
    {
     "name": "stderr",
     "output_type": "stream",
     "text": [
      "2021-05-20 09:45:18,009\tINFO services.py:1174 -- View the Ray dashboard at \u001b[1m\u001b[32mhttp://10.239.166.12:8265\u001b[39m\u001b[22m\n"
     ]
    },
    {
     "name": "stdout",
     "output_type": "stream",
     "text": [
      "{'node_ip_address': '10.239.166.12', 'raylet_ip_address': '10.239.166.12', 'redis_address': '10.239.166.12:6379', 'object_store_address': '/tmp/ray/session_2021-05-20_09-45-16_677432_26120/sockets/plasma_store', 'raylet_socket_name': '/tmp/ray/session_2021-05-20_09-45-16_677432_26120/sockets/raylet', 'webui_url': '10.239.166.12:8265', 'session_dir': '/tmp/ray/session_2021-05-20_09-45-16_677432_26120', 'metrics_export_port': 60942, 'node_id': 'dc303e04edab7e6810f848539ec45987f24292e45efb4c0f3a994656'}\n"
     ]
    },
    {
     "data": {
      "text/html": [
       "\n",
       "        <div>\n",
       "            <p><b>SparkContext</b></p>\n",
       "\n",
       "            <p><a href=\"http://intern03.sh.intel.com:4040\">Spark UI</a></p>\n",
       "\n",
       "            <dl>\n",
       "              <dt>Version</dt>\n",
       "                <dd><code>v2.4.3</code></dd>\n",
       "              <dt>Master</dt>\n",
       "                <dd><code>local[2]</code></dd>\n",
       "              <dt>AppName</dt>\n",
       "                <dd><code>pyspark-shell</code></dd>\n",
       "            </dl>\n",
       "        </div>\n",
       "        "
      ],
      "text/plain": [
       "<SparkContext master=local[2] appName=pyspark-shell>"
      ]
     },
     "execution_count": 13,
     "metadata": {},
     "output_type": "execute_result"
    }
   ],
   "source": [
    "init_orca_context(init_ray_on_spark=True)"
   ]
  },
  {
   "cell_type": "code",
   "execution_count": 14,
   "metadata": {},
   "outputs": [
    {
     "data": {
      "text/html": [
       "== Status ==<br>Memory usage on this node: 2.9/31.3 GiB<br>Using FIFO scheduling algorithm.<br>Resources requested: 0/2 CPUs, 0/0 GPUs, 0.0/17.72 GiB heap, 0.0/6.1 GiB objects<br>Current best trial: 08b44_00001 with mse=0.002651969423873537 and parameters={'changepoint_prior_scale': 0.12784892529812272, 'seasonality_prior_scale': 7.977144392551142, 'holidays_prior_scale': 0.1999662507927439, 'seasonality_mode': 'additive', 'changepoint_range': 0.8208184632046521}<br>Result logdir: /tmp/auto_prophet_logs/train_func_2021-05-20_09-45-19<br>Number of trials: 10/10 (10 TERMINATED)<br><br>"
      ],
      "text/plain": [
       "<IPython.core.display.HTML object>"
      ]
     },
     "metadata": {},
     "output_type": "display_data"
    },
    {
     "name": "stderr",
     "output_type": "stream",
     "text": [
      "2021-05-20 09:45:44,351\tINFO tune.py:450 -- Total run time: 24.70 seconds (24.65 seconds for the tuning loop).\n"
     ]
    }
   ],
   "source": [
    "auto_prophet = AutoProphet()\n",
    "# model = AutoProphet(cpus_per_trial=2, name=\"auto_prophet\")\n",
    "\n",
    "epochs = 1\n",
    "n_sampling = 10\n",
    "search_space = {\n",
    "    \"changepoint_prior_scale\": hp.loguniform(0.001, 0.5),\n",
    "    \"seasonality_prior_scale\": hp.loguniform(0.01, 10),\n",
    "    \"holidays_prior_scale\": hp.loguniform(0.01, 10),\n",
    "    \"seasonality_mode\": hp.choice(['additive', 'multiplicative']),\n",
    "    \"changepoint_range\": hp.uniform(0.8, 0.95)\n",
    "}\n",
    "\n",
    "search_alg = None\n",
    "search_alg_params = None\n",
    "scheduler = None\n",
    "scheduler_params = None\n",
    "\n",
    "auto_prophet.fit(data=data,\n",
    "          epochs=1,\n",
    "          metric=\"mse\",\n",
    "          n_sampling=10,\n",
    "          search_space=search_space,\n",
    "          search_alg=search_alg,\n",
    "          search_alg_params=search_alg_params,\n",
    "          scheduler=scheduler,\n",
    "          scheduler_params=scheduler_params,\n",
    "          )"
   ]
  },
  {
   "cell_type": "code",
   "execution_count": 15,
   "metadata": {},
   "outputs": [
    {
     "name": "stdout",
     "output_type": "stream",
     "text": [
      "Training completed.\n"
     ]
    }
   ],
   "source": [
    "print(\"Training completed.\")\n",
    "best_model = auto_prophet.get_best_model()\n",
    "y_hat = best_model.predict()"
   ]
  },
  {
   "cell_type": "code",
   "execution_count": 16,
   "metadata": {},
   "outputs": [
    {
     "name": "stdout",
     "output_type": "stream",
     "text": [
      "0.12784892529812272\n",
      "7.977144392551142\n",
      "0.1999662507927439\n",
      "additive\n",
      "0.8208184632046521\n"
     ]
    }
   ],
   "source": [
    "# Print best hyperparameters\n",
    "print(best_model.model.changepoint_prior_scale)\n",
    "print(best_model.model.seasonality_prior_scale)\n",
    "print(best_model.model.holidays_prior_scale)\n",
    "print(best_model.model.seasonality_mode)\n",
    "print(best_model.model.changepoint_range)"
   ]
  },
  {
   "cell_type": "code",
   "execution_count": 17,
   "metadata": {},
   "outputs": [],
   "source": [
    "assert best_model.model.seasonality_mode in ['additive', 'multiplicative']"
   ]
  },
  {
   "cell_type": "code",
   "execution_count": 18,
   "metadata": {},
   "outputs": [
    {
     "name": "stdout",
     "output_type": "stream",
     "text": [
      "Validation MSE = 0.002651969423873537\n"
     ]
    }
   ],
   "source": [
    "test_mse = best_model.evaluate(x=None, target=data_test)[0].item()\n",
    "print(f\"Validation MSE = {test_mse}\")"
   ]
  },
  {
   "cell_type": "code",
   "execution_count": 19,
   "metadata": {},
   "outputs": [
    {
     "data": {
      "image/png": "[encoded data removed]",
      "text/plain": [
       "<Figure size 432x288 with 1 Axes>"
      ]
     },
     "metadata": {
      "needs_background": "light"
     },
     "output_type": "display_data"
    }
   ],
   "source": [
    "# Plot predictions\n",
    "import matplotlib.pyplot as plt\n",
    "plt.plot(data_nor[['y']].values[-data_test.shape[0]:], color='blue', label=\"MMM daily price Raw\")\n",
    "plt.plot(y_hat[['yhat']].values, color='red', label=\"MMM daily price Predicted\")\n",
    "plt.xlabel(\"Time Period\")\n",
    "plt.ylabel(\"Normalized Stock Price\")\n",
    "plt.legend()\n",
    "plt.show()"
   ]
  }
 ],
 "metadata": {
  "kernelspec": {
   "display_name": "Python 3",
   "language": "python",
   "name": "python3"
  },
  "language_info": {
   "codemirror_mode": {
    "name": "ipython",
    "version": 3
   },
   "file_extension": ".py",
   "mimetype": "text/x-python",
   "name": "python",
   "nbconvert_exporter": "python",
   "pygments_lexer": "ipython3",
   "version": "3.6.10"
  }
 },
 "nbformat": 4,
 "nbformat_minor": 4
}
